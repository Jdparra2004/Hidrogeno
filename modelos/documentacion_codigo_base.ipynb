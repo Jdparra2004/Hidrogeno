{
 "cells": [
  {
   "cell_type": "markdown",
   "metadata": {},
   "source": [
    "# Documentación de código Base \n",
    "\n",
    "__Este documento es creado para la comprensión de cada sección de código y posteriormente su depuración__\n",
    "\n",
    "__Creado por: Juan David Parra Cantor__"
   ]
  },
  {
   "cell_type": "markdown",
   "metadata": {},
   "source": [
    "__Nota Importante__: En la primera ejecución se presenta un error en la línea 170, Por una advertencia de Sintaxys \n",
    "\n",
    "__170: SyntaxWarning: invalid escape sequence '\\s'__\n",
    "    __plt.ylabel('$\\sigma_r$ [Pa]')__"
   ]
  },
  {
   "cell_type": "markdown",
   "metadata": {},
   "source": [
    "Previo a está primera ejecución se revisa el código\n"
   ]
  },
  {
   "cell_type": "markdown",
   "metadata": {},
   "source": [
    "# Parte 1\n",
    "\n",
    "__Librerias__\n",
    "- numpy: para arreglos númericos\n",
    "- matplotlib: para graficos\n",
    "- scipy: para manejo de arreglos matriciales y soluciones\n",
    "\n"
   ]
  },
  {
   "cell_type": "code",
   "execution_count": 1,
   "metadata": {},
   "outputs": [],
   "source": [
    "import numpy as np\n",
    "import matplotlib.pyplot as plt\n",
    "from scipy.linalg import solve_banded"
   ]
  },
  {
   "cell_type": "markdown",
   "metadata": {},
   "source": [
    "# Parte 2\n",
    "\n",
    "__valores constantes__\n",
    "\n",
    "- radio ext(Ro): 0.02 m = 2.0e-2 m\n",
    "- radio inter(Ri): $$Ro - (3.0e-3)$$\n",
    "    3.0e-3 = 3x10^(-3) = 0.003 m\n",
    "- Concentración inicial de Hidrogeno en radio interno = 0.1\n",
    "- Concentración inicial de Hidrogeno en radio externo = 0.0\n",
    "- Coeficiente de difusión(D) = 1.0e-8 [m^2/s]\n",
    "- Modulo de Young(E) = 10e9 [Pa]\n",
    "- Coeficiente de Poisson(nu) = 0.3\n",
    "- Concentración inicial de Hidrogeno en el centro(C0) = 0\n",
    "- Presión Interior(pin) = 400.0e3 [Pa]\n",
    "- Cantidad de nodos(n) = 2000\n",
    "- Distancia entre nodos(dr): $$dr = (Ro - Ri) / (n - 1)$$\n",
    "- segundos por hora(s) = 3600, __¿Cuál es la necesidad de poner el 60*60?\n",
    "- Tiempo de simluación(t_end) = 5 hrs\n",
    "- Paso del tiempo(nt) = 1000\n",
    "- diferencial de tiempo(dt): $$dt = t_end / (nt - 1)$$\n",
    "\n"
   ]
  },
  {
   "cell_type": "code",
   "execution_count": null,
   "metadata": {},
   "outputs": [],
   "source": [
    "Ro=2.0e-2\n",
    "Ri=Ro-3.0e-3\n",
    "Cin=0.1\n",
    "Cout=0.0\n",
    "D=1.0e-8\n",
    "E=10e9 #Pa\n",
    "nu=0.3\n",
    "Omega=5.0e-3\n",
    "C0=0.0\n",
    "pin=400.0e3 #Pa https://www.ugc.edu.co/pages/juridica/documentos/institucionales/NTC_2505_Instalaciones_Suministro_De_Gas.pdf\n",
    "n=2000 #nodes\n",
    "dr=(Ro-Ri)/(n-1)\n",
    "#dt=0.083\n",
    "#S=31536000 # seconds in a year\n",
    "S=60*60 # seconds per hour\n",
    "t_end=5.0\n",
    "#nt=int(t_end/dt)\n",
    "nt=1000\n",
    "dt=t_end/(nt-1)"
   ]
  },
  {
   "cell_type": "markdown",
   "metadata": {},
   "source": [
    "# Parte 3\n",
    "\n",
    "__Creación de Matrices y vectores__\n",
    "\n",
    "- Vectores:\n",
    "    - *__cold__* almacena la concentracioón en cada nodo \n",
    "    - *__c__* almacena la concentración por nodo en paso de tiempo \n",
    "    - *__Disp__* almacena la deformación en cada nodo por paso de tiempo \n",
    "    - *__rhs__* alamacena término de la derecha de la ecuación de difusión\n",
    "    - *__rhsDisp__* almacena terminos de la derecha de la ecuación de deformación\n",
    "    - *__r__* Almacena coordenadas radiales para cada nodo\n",
    "    - *__t__* almacena los tiempos de simulación\n",
    "    - *__H, Hflux, HDisp, HStress_r, HStress_t, HStrain_r, y HStrain_t__* Almacenan los resultados de la simulación en cada nodo según el paso del tiempo\n",
    "\n",
    "- Matrices:\n",
    "    - *__sigma_r__* almacena la tención radial\n",
    "    - *__sigma_t__* almacena la tensión tangencial\n",
    "    - *__epsi_r__* almacena la deformación radial\n",
    "    - *__epsi_t__* almacena la deformación tangencial\n",
    "    - *__A__* almacena coeficiente de la ecuación de difusión\n",
    "    - *__ADisp__* almacena coeficiente de la ecuación de deformación\n",
    "\n"
   ]
  },
  {
   "cell_type": "code",
   "execution_count": null,
   "metadata": {},
   "outputs": [],
   "source": [
    "\n",
    "Cold=np.zeros(n)\n",
    "C=np.zeros(n)\n",
    "Disp=np.zeros(n)\n",
    "sigma_r=np.zeros(n)\n",
    "sigma_t=np.zeros(n)\n",
    "epsi_r=np.zeros(n)\n",
    "epsi_t=np.zeros(n)\n",
    "A=np.zeros((3,n))\n",
    "ADisp=np.zeros((5,n))\n",
    "rhs=np.zeros(n)\n",
    "rhsDisp=np.zeros(n)\n",
    "r=np.linspace(Ri,Ro,n)\n",
    "t=np.linspace(0,nt*dt,nt+1)\n",
    "H=np.zeros((n,nt+1))\n",
    "Cflux=np.zeros(n)\n",
    "Hflux=np.zeros((n,nt+1))\n",
    "HDisp=np.zeros((n,nt+1))\n",
    "HStress_r=np.zeros((n,nt+1))\n",
    "HStress_t=np.zeros((n,nt+1))\n",
    "HStrain_r=np.zeros((n,nt+1))\n",
    "HStrain_t=np.zeros((n,nt+1))"
   ]
  },
  {
   "cell_type": "markdown",
   "metadata": {},
   "source": [
    "# Parte 4\n",
    "\n",
    "__Modelo de difusión__\n",
    "\n"
   ]
  },
  {
   "cell_type": "code",
   "execution_count": null,
   "metadata": {},
   "outputs": [],
   "source": []
  }
 ],
 "metadata": {
  "kernelspec": {
   "display_name": "Python 3",
   "language": "python",
   "name": "python3"
  },
  "language_info": {
   "codemirror_mode": {
    "name": "ipython",
    "version": 3
   },
   "file_extension": ".py",
   "mimetype": "text/x-python",
   "name": "python",
   "nbconvert_exporter": "python",
   "pygments_lexer": "ipython3",
   "version": "3.12.3"
  }
 },
 "nbformat": 4,
 "nbformat_minor": 2
}
